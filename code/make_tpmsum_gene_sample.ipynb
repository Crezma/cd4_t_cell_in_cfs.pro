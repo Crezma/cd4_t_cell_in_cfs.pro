{
 "cells": [
  {
   "cell_type": "code",
   "execution_count": null,
   "id": "8eee90a6-ab3f-417b-ac33-0d8042a17b01",
   "metadata": {},
   "outputs": [],
   "source": [
    "%load_ext autoreload\n",
    "%autoreload 2"
   ]
  },
  {
   "cell_type": "code",
   "execution_count": null,
   "id": "07158166-4815-4ec1-a0d3-d8a49aae5597",
   "metadata": {},
   "outputs": [],
   "source": [
    "import kraft\n",
    "import numpy as np\n",
    "import pandas as pd"
   ]
  },
  {
   "cell_type": "code",
   "execution_count": null,
   "id": "b6187f6c-3a02-4f1b-9250-ece797547350",
   "metadata": {},
   "outputs": [],
   "source": [
    "pa = \"../output/tpm/\"\n",
    "\n",
    "kraft.path.make(pa)"
   ]
  },
  {
   "cell_type": "code",
   "execution_count": null,
   "id": "a31c1d24-0a5a-48a5-bc85-32a302fc8828",
   "metadata": {},
   "outputs": [],
   "source": [
    "tpm__ = []\n",
    "\n",
    "for path in kraft.path.list(\"../output/kallisto/\"):\n",
    "\n",
    "    if \"S0\" in path:\n",
    "\n",
    "        continue\n",
    "\n",
    "    tpm_ = pd.read_csv(\n",
    "        \"{}/{}\".format(path, \"abundance.tsv\"),\n",
    "        \"\\t\",\n",
    "        index_col=0,\n",
    "    )[\"tpm\"]\n",
    "\n",
    "    tpm_.name = path.split(\"/\")[-1]\n",
    "\n",
    "    tpm__.append(tpm_)\n",
    "\n",
    "tpm_enst_sample = pd.concat(tpm__, axis=1)\n",
    "\n",
    "tpm_enst_sample.index.name = \"ENST\"\n",
    "\n",
    "tpm_enst_sample.to_csv(\"{}tpm_enst_sample.tsv\".format(pa), \"\\t\")\n",
    "\n",
    "print(tpm_enst_sample.sum())\n",
    "\n",
    "tpm_enst_sample"
   ]
  },
  {
   "cell_type": "code",
   "execution_count": null,
   "id": "60069a1b-3c38-419a-9f98-ad8ef99f23a5",
   "metadata": {},
   "outputs": [],
   "source": [
    "tpm_enst_sample.index = kraft.gene.rename(tpm_enst_sample.index.values)\n",
    "\n",
    "tpmsum_gene_sample = (\n",
    "    tpm_enst_sample.loc[tpm_enst_sample.index.notna()].groupby(level=0).sum()\n",
    ")\n",
    "\n",
    "tpmsum_gene_sample.index.name = \"Gene\"\n",
    "\n",
    "tpmsum_gene_sample.to_csv(\"{}tpmsum_gene_sample.tsv\".format(pa), \"\\t\")\n",
    "\n",
    "print(tpmsum_gene_sample.sum())\n",
    "\n",
    "tpmsum_gene_sample"
   ]
  }
 ],
 "metadata": {
  "kernelspec": {
   "display_name": "Python 3",
   "language": "python",
   "name": "python3"
  },
  "language_info": {
   "codemirror_mode": {
    "name": "ipython",
    "version": 3
   },
   "file_extension": ".py",
   "mimetype": "text/x-python",
   "name": "python",
   "nbconvert_exporter": "python",
   "pygments_lexer": "ipython3",
   "version": "3.8.9"
  }
 },
 "nbformat": 4,
 "nbformat_minor": 5
}
