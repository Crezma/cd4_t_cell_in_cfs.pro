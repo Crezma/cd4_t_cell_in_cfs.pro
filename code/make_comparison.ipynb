{
 "cells": [
  {
   "cell_type": "code",
   "execution_count": null,
   "id": "f1cc6882-3c1a-46b5-85cf-46b8382ea22a",
   "metadata": {
    "tags": []
   },
   "outputs": [],
   "source": [
    "%load_ext autoreload\n",
    "%autoreload 2"
   ]
  },
  {
   "cell_type": "code",
   "execution_count": null,
   "id": "e5f433a5-e288-4644-863c-1517b27f9aef",
   "metadata": {
    "ExecuteTime": {
     "end_time": "2018-07-10T08:40:02.540703Z",
     "start_time": "2018-07-10T08:40:00.652198Z"
    },
    "tags": []
   },
   "outputs": [],
   "source": [
    "import kraft\n",
    "import numpy as np\n",
    "import pandas as pd"
   ]
  },
  {
   "cell_type": "code",
   "execution_count": null,
   "id": "fdd53e0c-a822-4a18-9a24-472abeca3202",
   "metadata": {},
   "outputs": [],
   "source": [
    "tp_ge_sa = pd.read_csv(\n",
    "    \"../output/tpm/tpmsum_geneselected_sample.tsv\", \"\\t\", index_col=0\n",
    ")"
   ]
  },
  {
   "cell_type": "code",
   "execution_count": null,
   "id": "423bc284-b75e-4ccb-86a5-d6e5aa05efa4",
   "metadata": {},
   "outputs": [],
   "source": [
    "bi_co_sa = pd.DataFrame([[0] * 3 + [1] * 3], [\"Comparison 1\"], tp_ge_sa.columns)\n",
    "\n",
    "bi_co_sa.to_csv(\"../output/01_comparison_sample.tsv\", \"\\t\")\n",
    "\n",
    "bi_co_sa"
   ]
  }
 ],
 "metadata": {
  "kernelspec": {
   "display_name": "Python 3",
   "language": "python",
   "name": "python3"
  },
  "language_info": {
   "codemirror_mode": {
    "name": "ipython",
    "version": 3
   },
   "file_extension": ".py",
   "mimetype": "text/x-python",
   "name": "python",
   "nbconvert_exporter": "python",
   "pygments_lexer": "ipython3",
   "version": "3.8.9"
  }
 },
 "nbformat": 4,
 "nbformat_minor": 5
}
