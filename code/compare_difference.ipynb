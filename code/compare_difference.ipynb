{
 "cells": [
  {
   "cell_type": "code",
   "execution_count": null,
   "id": "3317bf5e-49b3-46a9-a6ba-8b4f58f9a7f0",
   "metadata": {
    "tags": []
   },
   "outputs": [],
   "source": [
    "%load_ext autoreload\n",
    "%autoreload 2"
   ]
  },
  {
   "cell_type": "code",
   "execution_count": null,
   "id": "78b4a183-e79d-4f99-8ed4-b9045fb7dcdc",
   "metadata": {
    "ExecuteTime": {
     "end_time": "2018-07-10T08:40:02.540703Z",
     "start_time": "2018-07-10T08:40:00.652198Z"
    },
    "tags": []
   },
   "outputs": [],
   "source": [
    "import numpy as np\n",
    "import pandas as pd\n",
    "\n",
    "import kraft"
   ]
  },
  {
   "cell_type": "code",
   "execution_count": null,
   "id": "cf479bcf-d55a-4e43-b1f5-ac1056b32a0a",
   "metadata": {
    "tags": []
   },
   "outputs": [],
   "source": [
    "tp_ge_sa = pd.read_csv(\n",
    "    \"../output/tpm/tpmsum_geneselected_sample.tsv\", \"\\t\", index_col=0\n",
    ")"
   ]
  },
  {
   "cell_type": "code",
   "execution_count": null,
   "id": "eef68675-d2fa-4b19-bcc4-0799947f0e8e",
   "metadata": {},
   "outputs": [],
   "source": [
    "pa = \"../output/compare_difference/\"\n",
    "\n",
    "kraft.path.make(pa)"
   ]
  },
  {
   "cell_type": "code",
   "execution_count": null,
   "id": "b1bfa55a-56b5-4a8d-922d-2629eb8982c9",
   "metadata": {},
   "outputs": [],
   "source": [
    "def get_difference(nu_fe_sa, sa1_, sa2_):\n",
    "\n",
    "    return nu_fe_sa.loc[:, sa2_].mean(1) - nu_fe_sa.loc[:, sa1_].mean(1)"
   ]
  },
  {
   "cell_type": "code",
   "execution_count": null,
   "id": "0fc93b4f-b334-4e27-b651-37b48d5e8bd1",
   "metadata": {},
   "outputs": [],
   "source": [
    "sa1_ = [\"S7\"]\n",
    "\n",
    "sa2_ = [\"S8\"]\n",
    "\n",
    "di1_ = get_difference(tp_ge_sa, sa1_, sa2_)\n",
    "\n",
    "di1_.name = \"Healthy: CD4 ({}) - TA ({})\".format(\",\".join(sa2_), \",\".join(sa1_))\n",
    "\n",
    "te = \"{{}}_{{}}_vs_{}_{}\".format(\"\".join(sa2_), \"\".join(sa1_))"
   ]
  },
  {
   "cell_type": "code",
   "execution_count": null,
   "id": "c4db3740-dd2e-439e-b7c8-9b1569f69b5b",
   "metadata": {},
   "outputs": [],
   "source": [
    "pe_ = [\"CD4\", \"HLA-A\", \"HLA-B\", \"HLA-C\", \"HLA-D\", \"HLA-E\"]"
   ]
  },
  {
   "cell_type": "code",
   "execution_count": null,
   "id": "2893f034-c8cd-4f1a-b93e-b095a7581b90",
   "metadata": {},
   "outputs": [],
   "source": [
    "for sa1_, sa2_ in [\n",
    "    [[\"S1\", \"S3\", \"S5\"], [\"S2\", \"S4\", \"S6\"]],\n",
    "    [[\"S1\"], [\"S2\"]],\n",
    "    [[\"S3\"], [\"S4\"]],\n",
    "    [[\"S5\"], [\"S6\"]],\n",
    "]:\n",
    "\n",
    "    di2_ = get_difference(tp_ge_sa, sa1_, sa2_)\n",
    "\n",
    "    di2_.name = \"CFS: CD4 ({}) - TA ({})\".format(\",\".join(sa2_), \",\".join(sa1_))\n",
    "\n",
    "    ch_ = di2_ - di1_\n",
    "\n",
    "    na = kraft.path.clean(te.format(\"\".join(sa2_), \"\".join(sa1_)))\n",
    "\n",
    "    ch_.sort_values().to_csv(\"{}{}.tsv\".format(pa, na), \"\\t\")\n",
    "\n",
    "    an_po_pa = pd.DataFrame(\n",
    "        {\n",
    "            di2_.name: kraft.array.log_with_negative(di2_.values),\n",
    "            di1_.name: kraft.array.log_with_negative(di1_.values),\n",
    "        },\n",
    "        tp_ge_sa.index,\n",
    "    )\n",
    "\n",
    "    an_po_pa[\"Size\"] = 8\n",
    "\n",
    "    bo_ = kraft.iterable.check_is_in(\n",
    "        an_po_pa.index.values,\n",
    "        ch_.index[kraft.array.check_is_extreme(ch_.values, \"<>\", n_ex=5)].tolist()\n",
    "        + pe_,\n",
    "    )\n",
    "\n",
    "    an_po_pa[\"Color\"] = np.where(bo_, \"#9017e6\", \"#20d0ba\")\n",
    "\n",
    "    an_po_pa[\"Opacity\"] = np.where(bo_, 1, 0.48)\n",
    "\n",
    "    an_po_pa[\"Annotate\"] = bo_\n",
    "\n",
    "    kraft.plot.plot_point(\n",
    "        an_po_pa, title=\"Compare Differences\", pa=\"{}{}.html\".format(pa, na)\n",
    "    )"
   ]
  }
 ],
 "metadata": {
  "kernelspec": {
   "display_name": "Python 3",
   "language": "python",
   "name": "python3"
  },
  "language_info": {
   "codemirror_mode": {
    "name": "ipython",
    "version": 3
   },
   "file_extension": ".py",
   "mimetype": "text/x-python",
   "name": "python",
   "nbconvert_exporter": "python",
   "pygments_lexer": "ipython3",
   "version": "3.8.9"
  }
 },
 "nbformat": 4,
 "nbformat_minor": 5
}
