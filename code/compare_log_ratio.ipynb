{
 "cells": [
  {
   "cell_type": "code",
   "execution_count": null,
   "id": "3317bf5e-49b3-46a9-a6ba-8b4f58f9a7f0",
   "metadata": {
    "tags": []
   },
   "outputs": [],
   "source": [
    "%load_ext autoreload\n",
    "%autoreload 2"
   ]
  },
  {
   "cell_type": "code",
   "execution_count": null,
   "id": "78b4a183-e79d-4f99-8ed4-b9045fb7dcdc",
   "metadata": {
    "ExecuteTime": {
     "end_time": "2018-07-10T08:40:02.540703Z",
     "start_time": "2018-07-10T08:40:00.652198Z"
    },
    "tags": []
   },
   "outputs": [],
   "source": [
    "import kraft\n",
    "import numpy as np\n",
    "import pandas as pd"
   ]
  },
  {
   "cell_type": "code",
   "execution_count": null,
   "id": "b829fbd8-3706-4396-b488-cb38e67f35dd",
   "metadata": {
    "tags": []
   },
   "outputs": [],
   "source": [
    "nu_fe_sa = pd.read_csv(\"../output/number_feature_sample.tsv\", \"\\t\", index_col=0)"
   ]
  },
  {
   "cell_type": "code",
   "execution_count": null,
   "id": "eef68675-d2fa-4b19-bcc4-0799947f0e8e",
   "metadata": {},
   "outputs": [],
   "source": [
    "pa = \"../output/compare_log_ratio/\"\n",
    "\n",
    "kraft.path.make(pa)"
   ]
  },
  {
   "cell_type": "code",
   "execution_count": null,
   "id": "0fc93b4f-b334-4e27-b651-37b48d5e8bd1",
   "metadata": {},
   "outputs": [],
   "source": [
    "la2_ = [\"S8\"]\n",
    "\n",
    "la1_ = [\"S7\"]\n",
    "\n",
    "lo1_ = nu_fe_sa.loc[:, la2_].mean(1) - nu_fe_sa.loc[:, la1_].mean(1)\n",
    "\n",
    "te = \"{{}}_{{}}_vs_{}_{}\".format(\"\".join(la2_), \"\".join(la1_))"
   ]
  },
  {
   "cell_type": "code",
   "execution_count": null,
   "id": "c4db3740-dd2e-439e-b7c8-9b1569f69b5b",
   "metadata": {},
   "outputs": [],
   "source": [
    "pe_ = [\"SELL\", \"CD4\"]"
   ]
  },
  {
   "cell_type": "code",
   "execution_count": null,
   "id": "cf5606a3-58d0-44f6-ac69-2275c60ef058",
   "metadata": {},
   "outputs": [],
   "source": [
    "for la2_, la1_ in [\n",
    "    [[\"S2\", \"S4\", \"S6\"], [\"S1\", \"S3\", \"S5\"]],\n",
    "    [[\"S2\"], [\"S1\"]],\n",
    "    [[\"S4\"], [\"S3\"]],\n",
    "    [[\"S6\"], [\"S5\"]],\n",
    "]:\n",
    "\n",
    "    lo2_ = nu_fe_sa.loc[:, la2_].mean(1) - nu_fe_sa.loc[:, la1_].mean(1)\n",
    "\n",
    "    ch_ = lo2_ - lo1_\n",
    "\n",
    "    na = kraft.path.clean(te.format(\"\".join(la2_), \"\".join(la1_)))\n",
    "\n",
    "    print(ch_.sort_values())\n",
    "\n",
    "    ch_.to_csv(\"{}{}.tsv\".format(pa, na), \"\\t\")\n",
    "\n",
    "    an_po_pa = pd.DataFrame({\"Log Ratio in CFS\": lo2_, \"Log Ratio in Healthy\": lo1_})\n",
    "\n",
    "    an_po_pa[\"Size\"] = 8\n",
    "\n",
    "    bo_ = kraft.iterable.check_is_in(\n",
    "        an_po_pa.index.values,\n",
    "        ch_.index[kraft.array.check_is_extreme(ch_.values, \"<>\", n_ex=3)].tolist()\n",
    "        + pe_,\n",
    "    )\n",
    "\n",
    "    an_po_pa[\"Color\"] = np.where(bo_, \"#9017e6\", \"#20d0ba\")\n",
    "\n",
    "    an_po_pa[\"Opacity\"] = np.where(bo_, 1, 0.48)\n",
    "\n",
    "    an_po_pa[\"Annotate\"] = bo_\n",
    "\n",
    "    an_po_pa\n",
    "\n",
    "    kraft.plot.plot_point(\n",
    "        an_po_pa, title=\"Compare Log Ratios\", pa=\"{}{}.html\".format(pa, na)\n",
    "    )"
   ]
  }
 ],
 "metadata": {
  "kernelspec": {
   "display_name": "Python 3",
   "language": "python",
   "name": "python3"
  },
  "language_info": {
   "codemirror_mode": {
    "name": "ipython",
    "version": 3
   },
   "file_extension": ".py",
   "mimetype": "text/x-python",
   "name": "python",
   "nbconvert_exporter": "python",
   "pygments_lexer": "ipython3",
   "version": "3.8.9"
  }
 },
 "nbformat": 4,
 "nbformat_minor": 5
}
