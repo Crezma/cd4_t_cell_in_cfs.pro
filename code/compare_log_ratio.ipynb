{
 "cells": [
  {
   "cell_type": "code",
   "execution_count": null,
   "id": "3317bf5e-49b3-46a9-a6ba-8b4f58f9a7f0",
   "metadata": {
    "tags": []
   },
   "outputs": [],
   "source": [
    "%load_ext autoreload\n",
    "%autoreload 2"
   ]
  },
  {
   "cell_type": "code",
   "execution_count": null,
   "id": "78b4a183-e79d-4f99-8ed4-b9045fb7dcdc",
   "metadata": {
    "ExecuteTime": {
     "end_time": "2018-07-10T08:40:02.540703Z",
     "start_time": "2018-07-10T08:40:00.652198Z"
    },
    "tags": []
   },
   "outputs": [],
   "source": [
    "import kraft\n",
    "import numpy as np\n",
    "import pandas as pd"
   ]
  },
  {
   "cell_type": "code",
   "execution_count": null,
   "id": "b829fbd8-3706-4396-b488-cb38e67f35dd",
   "metadata": {
    "tags": []
   },
   "outputs": [],
   "source": [
    "nu_fe_sa = pd.read_csv(\"../output/number_feature_sample.tsv\", \"\\t\", index_col=0)\n",
    "\n",
    "bi_co_sa = pd.read_csv(\"../output/01_comparison_sample.tsv\", \"\\t\", index_col=0)"
   ]
  },
  {
   "cell_type": "code",
   "execution_count": null,
   "id": "73da06fd-360f-4a81-9ee4-5eb15a31250b",
   "metadata": {},
   "outputs": [],
   "source": [
    "lo1_ = nu_fe_sa[\"S8\"] - nu_fe_sa[\"S7\"]\n",
    "\n",
    "lo2_ = nu_fe_sa.loc[:, [\"S2\", \"S4\", \"S6\"]].mean(1) - nu_fe_sa.loc[\n",
    "    :, [\"S1\", \"S3\", \"S5\"]\n",
    "].mean(1)\n",
    "\n",
    "ch_ = lo2_ - lo1_\n",
    "\n",
    "ch_.to_csv(\"../output/compare_log_ratio.tsv\", \"\\t\")\n",
    "\n",
    "an_po_pa = pd.DataFrame({\"Log Ratio in CFS\": lo2_, \"Log Ratio in Healthy\": lo1_})\n",
    "\n",
    "an_po_pa[\"Size\"] = 8\n",
    "\n",
    "bo_ = kraft.iterable.check_is_in(\n",
    "    an_po_pa.index.values,\n",
    "    ch_.index[kraft.array.check_is_extreme(ch_.values, \"<>\", n_ex=5)].tolist()\n",
    "    + [\"SELL\", \"CD4\"],\n",
    ")\n",
    "\n",
    "an_po_pa[\"Color\"] = np.where(bo_, \"#9017e6\", \"#20d0ba\")\n",
    "\n",
    "an_po_pa[\"Opacity\"] = np.where(bo_, 1, 0.48)\n",
    "\n",
    "an_po_pa[\"Annotate\"] = bo_\n",
    "\n",
    "an_po_pa\n",
    "\n",
    "kraft.plot.plot_point(\n",
    "    an_po_pa, title=\"Compare Log Ratios\", pa=\"../output/compare_log_ratio.html\"\n",
    ")\n",
    "\n",
    "an_po_pa"
   ]
  }
 ],
 "metadata": {
  "kernelspec": {
   "display_name": "Python 3",
   "language": "python",
   "name": "python3"
  },
  "language_info": {
   "codemirror_mode": {
    "name": "ipython",
    "version": 3
   },
   "file_extension": ".py",
   "mimetype": "text/x-python",
   "name": "python",
   "nbconvert_exporter": "python",
   "pygments_lexer": "ipython3",
   "version": "3.8.9"
  }
 },
 "nbformat": 4,
 "nbformat_minor": 5
}
